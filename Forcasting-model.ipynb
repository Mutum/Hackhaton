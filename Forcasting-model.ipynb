{
  "nbformat": 4,
  "nbformat_minor": 0,
  "metadata": {
    "colab": {
      "name": "Genpact hackathon",
      "version": "0.3.2",
      "provenance": [],
      "collapsed_sections": []
    },
    "kernelspec": {
      "name": "python3",
      "display_name": "Python 3"
    },
    "accelerator": "GPU"
  },
  "cells": [
    {
      "metadata": {
        "id": "8d0eo91_Se7v",
        "colab_type": "code",
        "colab": {}
      },
      "cell_type": "code",
      "source": [
        "from IPython.core.interactiveshell import InteractiveShell\n",
        "InteractiveShell.ast_node_interactivity = \"all\""
      ],
      "execution_count": 0,
      "outputs": []
    },
    {
      "metadata": {
        "id": "qeKrkrQxSmcL",
        "colab_type": "code",
        "colab": {}
      },
      "cell_type": "code",
      "source": [
        "import numpy as np \n",
        "import pandas as pd\n",
        "import os\n",
        "import matplotlib.pyplot as plt\n",
        "%matplotlib inline\n",
        "import seaborn as sns\n",
        "from scipy import stats\n",
        "from scipy.stats import norm"
      ],
      "execution_count": 0,
      "outputs": []
    },
    {
      "metadata": {
        "id": "hBsXRk9PTFaj",
        "colab_type": "code",
        "colab": {}
      },
      "cell_type": "code",
      "source": [
        "#os.chdir(\"F:/Courses/hack/Genpact hact\")"
      ],
      "execution_count": 0,
      "outputs": []
    },
    {
      "metadata": {
        "id": "o6GnbKPzTKir",
        "colab_type": "text"
      },
      "cell_type": "markdown",
      "source": [
        "## Problem Statement\n",
        "Your client is a meal delivery company which operates in multiple cities. They have various fulfillment centers in these cities for dispatching meal orders to their customers. The client wants you to help these centers with demand forecasting for upcoming weeks so that these centers will plan the stock of raw materials accordingly.\n",
        "The replenishment of majority of raw materials is done on weekly basis and since the raw material is perishable, the procurement planning is of utmost importance. Secondly, staffing of the centers is also one area wherein accurate demand forecasts are really helpful. Given the following information, the task is to predict the demand for the next 10 weeks (Weeks: 146-155) for the center-meal combinations in the test set:\n",
        " \n",
        "1. Historical data of demand for a product-center combination (Weeks: 1 to 145).\n",
        "2. Product(Meal) features such as category, sub-category, current price and discount.\n",
        "3. Information for fulfillment center like center area, city information etc."
      ]
    },
    {
      "metadata": {
        "id": "EWKlTyfvBu1G",
        "colab_type": "code",
        "outputId": "211be4d5-20a0-48d6-c598-07fa3736dc6b",
        "colab": {
          "base_uri": "https://localhost:8080/",
          "height": 34
        }
      },
      "cell_type": "code",
      "source": [
        "from google.colab import drive\n",
        "drive.mount('/content/drive')"
      ],
      "execution_count": 0,
      "outputs": [
        {
          "output_type": "stream",
          "text": [
            "Drive already mounted at /content/drive; to attempt to forcibly remount, call drive.mount(\"/content/drive\", force_remount=True).\n"
          ],
          "name": "stdout"
        }
      ]
    },
    {
      "metadata": {
        "id": "Nj6dhRp5CwKO",
        "colab_type": "code",
        "colab": {}
      },
      "cell_type": "code",
      "source": [
        "# After executing the cell above, Drive\n",
        "# files will be present in \"/content/drive/My Drive\".\n",
        "# !ls \"/content/drive/My Drive\""
      ],
      "execution_count": 0,
      "outputs": []
    },
    {
      "metadata": {
        "id": "GZj_GlEpCL8z",
        "colab_type": "text"
      },
      "cell_type": "markdown",
      "source": [
        "# New Section"
      ]
    },
    {
      "metadata": {
        "id": "rclyGftUDpQ9",
        "colab_type": "code",
        "colab": {}
      },
      "cell_type": "code",
      "source": [
        "# demand_data = files.upload(\"train.csv\") content/drive/My Drive/train.csv content/drive/My Drive/train.csv\n",
        "import pandas as pd"
      ],
      "execution_count": 0,
      "outputs": []
    },
    {
      "metadata": {
        "id": "X7ak18WvTI-M",
        "colab_type": "code",
        "colab": {}
      },
      "cell_type": "code",
      "source": [
        "# load Weekly Demand data \n",
        "demand_data = pd.read_csv(\"/content/drive/My Drive/train.csv\")  # Contains the historical demand data for all centers\n",
        "\n",
        "# Contains information for each fulfilment center\n",
        "fulfilment_center_info = pd.read_csv(\"/content/drive/My Drive/fulfilment_center_info.csv\")\n",
        "\n",
        "# Contains information for each meal being served\n",
        "meal_info = pd.read_csv(\"/content/drive/My Drive/meal_info.csv\")\n",
        "\n",
        "test = pd.read_csv(\"/content/drive/My Drive/test_QoiMO9B.csv\")"
      ],
      "execution_count": 0,
      "outputs": []
    },
    {
      "metadata": {
        "id": "UYFLkglzTYJf",
        "colab_type": "code",
        "outputId": "231ea5ab-ad15-4084-ae78-a329b54286aa",
        "colab": {
          "base_uri": "https://localhost:8080/",
          "height": 204
        }
      },
      "cell_type": "code",
      "source": [
        "demand_data.head()"
      ],
      "execution_count": 0,
      "outputs": [
        {
          "output_type": "execute_result",
          "data": {
            "text/html": [
              "<div>\n",
              "<style scoped>\n",
              "    .dataframe tbody tr th:only-of-type {\n",
              "        vertical-align: middle;\n",
              "    }\n",
              "\n",
              "    .dataframe tbody tr th {\n",
              "        vertical-align: top;\n",
              "    }\n",
              "\n",
              "    .dataframe thead th {\n",
              "        text-align: right;\n",
              "    }\n",
              "</style>\n",
              "<table border=\"1\" class=\"dataframe\">\n",
              "  <thead>\n",
              "    <tr style=\"text-align: right;\">\n",
              "      <th></th>\n",
              "      <th>id</th>\n",
              "      <th>week</th>\n",
              "      <th>center_id</th>\n",
              "      <th>meal_id</th>\n",
              "      <th>checkout_price</th>\n",
              "      <th>base_price</th>\n",
              "      <th>emailer_for_promotion</th>\n",
              "      <th>homepage_featured</th>\n",
              "      <th>num_orders</th>\n",
              "    </tr>\n",
              "  </thead>\n",
              "  <tbody>\n",
              "    <tr>\n",
              "      <th>0</th>\n",
              "      <td>1379560</td>\n",
              "      <td>1</td>\n",
              "      <td>55</td>\n",
              "      <td>1885</td>\n",
              "      <td>136.83</td>\n",
              "      <td>152.29</td>\n",
              "      <td>0</td>\n",
              "      <td>0</td>\n",
              "      <td>177</td>\n",
              "    </tr>\n",
              "    <tr>\n",
              "      <th>1</th>\n",
              "      <td>1466964</td>\n",
              "      <td>1</td>\n",
              "      <td>55</td>\n",
              "      <td>1993</td>\n",
              "      <td>136.83</td>\n",
              "      <td>135.83</td>\n",
              "      <td>0</td>\n",
              "      <td>0</td>\n",
              "      <td>270</td>\n",
              "    </tr>\n",
              "    <tr>\n",
              "      <th>2</th>\n",
              "      <td>1346989</td>\n",
              "      <td>1</td>\n",
              "      <td>55</td>\n",
              "      <td>2539</td>\n",
              "      <td>134.86</td>\n",
              "      <td>135.86</td>\n",
              "      <td>0</td>\n",
              "      <td>0</td>\n",
              "      <td>189</td>\n",
              "    </tr>\n",
              "    <tr>\n",
              "      <th>3</th>\n",
              "      <td>1338232</td>\n",
              "      <td>1</td>\n",
              "      <td>55</td>\n",
              "      <td>2139</td>\n",
              "      <td>339.50</td>\n",
              "      <td>437.53</td>\n",
              "      <td>0</td>\n",
              "      <td>0</td>\n",
              "      <td>54</td>\n",
              "    </tr>\n",
              "    <tr>\n",
              "      <th>4</th>\n",
              "      <td>1448490</td>\n",
              "      <td>1</td>\n",
              "      <td>55</td>\n",
              "      <td>2631</td>\n",
              "      <td>243.50</td>\n",
              "      <td>242.50</td>\n",
              "      <td>0</td>\n",
              "      <td>0</td>\n",
              "      <td>40</td>\n",
              "    </tr>\n",
              "  </tbody>\n",
              "</table>\n",
              "</div>"
            ],
            "text/plain": [
              "        id  week  center_id  meal_id  checkout_price  base_price  \\\n",
              "0  1379560     1         55     1885          136.83      152.29   \n",
              "1  1466964     1         55     1993          136.83      135.83   \n",
              "2  1346989     1         55     2539          134.86      135.86   \n",
              "3  1338232     1         55     2139          339.50      437.53   \n",
              "4  1448490     1         55     2631          243.50      242.50   \n",
              "\n",
              "   emailer_for_promotion  homepage_featured  num_orders  \n",
              "0                      0                  0         177  \n",
              "1                      0                  0         270  \n",
              "2                      0                  0         189  \n",
              "3                      0                  0          54  \n",
              "4                      0                  0          40  "
            ]
          },
          "metadata": {
            "tags": []
          },
          "execution_count": 104
        }
      ]
    },
    {
      "metadata": {
        "id": "us6LfCQLTcqi",
        "colab_type": "code",
        "outputId": "f1ae8894-f16f-4e4b-efd2-091ddaaa6059",
        "colab": {
          "base_uri": "https://localhost:8080/",
          "height": 34
        }
      },
      "cell_type": "code",
      "source": [
        "demand_data.shape  # num_orders is the target variable\n",
        "print(f\"{demand_data.shape[0]} rows and {demand_data.shape[1]} columns\")"
      ],
      "execution_count": 0,
      "outputs": [
        {
          "output_type": "execute_result",
          "data": {
            "text/plain": [
              "(456548, 9)"
            ]
          },
          "metadata": {
            "tags": []
          },
          "execution_count": 105
        },
        {
          "output_type": "stream",
          "text": [
            "456548 rows and 9 columns\n"
          ],
          "name": "stdout"
        }
      ]
    },
    {
      "metadata": {
        "id": "B6eXtuKtTfKz",
        "colab_type": "code",
        "outputId": "0113fedb-179d-47eb-84f3-d0e120f20095",
        "colab": {
          "base_uri": "https://localhost:8080/",
          "height": 255
        }
      },
      "cell_type": "code",
      "source": [
        "demand_data.info() # there is no null value\n",
        "#demand_data.isnull().any()"
      ],
      "execution_count": 0,
      "outputs": [
        {
          "output_type": "stream",
          "text": [
            "<class 'pandas.core.frame.DataFrame'>\n",
            "RangeIndex: 456548 entries, 0 to 456547\n",
            "Data columns (total 9 columns):\n",
            "id                       456548 non-null int64\n",
            "week                     456548 non-null int64\n",
            "center_id                456548 non-null int64\n",
            "meal_id                  456548 non-null int64\n",
            "checkout_price           456548 non-null float64\n",
            "base_price               456548 non-null float64\n",
            "emailer_for_promotion    456548 non-null int64\n",
            "homepage_featured        456548 non-null int64\n",
            "num_orders               456548 non-null int64\n",
            "dtypes: float64(2), int64(7)\n",
            "memory usage: 31.3 MB\n"
          ],
          "name": "stdout"
        }
      ]
    },
    {
      "metadata": {
        "id": "yU0b7kL9ToIt",
        "colab_type": "code",
        "outputId": "e663607e-ae44-404f-a903-8f6e34d61ed3",
        "colab": {
          "base_uri": "https://localhost:8080/",
          "height": 296
        }
      },
      "cell_type": "code",
      "source": [
        "#demand_data.num_orders.plot(kind=\"bar\")\n",
        "sns.distplot(demand_data['num_orders'])"
      ],
      "execution_count": 0,
      "outputs": [
        {
          "output_type": "execute_result",
          "data": {
            "text/plain": [
              "<matplotlib.axes._subplots.AxesSubplot at 0x7f7936c98a90>"
            ]
          },
          "metadata": {
            "tags": []
          },
          "execution_count": 107
        },
        {
          "output_type": "display_data",
          "data": {
            "image/png": "[encoded data removed]",
            "text/plain": [
              "<matplotlib.figure.Figure at 0x7f793189a2b0>"
            ]
          },
          "metadata": {
            "tags": []
          }
        }
      ]
    },
    {
      "metadata": {
        "id": "xXbY7lr0oYiy",
        "colab_type": "code",
        "outputId": "21df0ce5-96ce-41d7-d5b3-6b485b84c391",
        "colab": {
          "base_uri": "https://localhost:8080/",
          "height": 296
        }
      },
      "cell_type": "code",
      "source": [
        "demand_data['num_orders'] = np.log(demand_data['num_orders'])\n",
        "sns.distplot(demand_data['num_orders'])"
      ],
      "execution_count": 0,
      "outputs": [
        {
          "output_type": "execute_result",
          "data": {
            "text/plain": [
              "<matplotlib.axes._subplots.AxesSubplot at 0x7f7936aea908>"
            ]
          },
          "metadata": {
            "tags": []
          },
          "execution_count": 108
        },
        {
          "output_type": "display_data",
          "data": {
            "image/png": "[encoded data removed]",
            "text/plain": [
              "<matplotlib.figure.Figure at 0x7f793158ad30>"
            ]
          },
          "metadata": {
            "tags": []
          }
        }
      ]
    },
    {
      "metadata": {
        "id": "ZP3909oLHSNe",
        "colab_type": "code",
        "outputId": "24c69b7a-f794-47b3-db3e-6c5f5c470299",
        "colab": {
          "base_uri": "https://localhost:8080/",
          "height": 227
        }
      },
      "cell_type": "code",
      "source": [
        "merge1= pd.merge(demand_data,meal_info)\n",
        "Fin_merge= pd.merge(merge1,fulfilment_center_info)\n",
        "\n",
        "Fin_merge.head()"
      ],
      "execution_count": 0,
      "outputs": [
        {
          "output_type": "execute_result",
          "data": {
            "text/html": [
              "<div>\n",
              "<style scoped>\n",
              "    .dataframe tbody tr th:only-of-type {\n",
              "        vertical-align: middle;\n",
              "    }\n",
              "\n",
              "    .dataframe tbody tr th {\n",
              "        vertical-align: top;\n",
              "    }\n",
              "\n",
              "    .dataframe thead th {\n",
              "        text-align: right;\n",
              "    }\n",
              "</style>\n",
              "<table border=\"1\" class=\"dataframe\">\n",
              "  <thead>\n",
              "    <tr style=\"text-align: right;\">\n",
              "      <th></th>\n",
              "      <th>id</th>\n",
              "      <th>week</th>\n",
              "      <th>center_id</th>\n",
              "      <th>meal_id</th>\n",
              "      <th>checkout_price</th>\n",
              "      <th>base_price</th>\n",
              "      <th>emailer_for_promotion</th>\n",
              "      <th>homepage_featured</th>\n",
              "      <th>num_orders</th>\n",
              "      <th>category</th>\n",
              "      <th>cuisine</th>\n",
              "      <th>city_code</th>\n",
              "      <th>region_code</th>\n",
              "      <th>center_type</th>\n",
              "      <th>op_area</th>\n",
              "    </tr>\n",
              "  </thead>\n",
              "  <tbody>\n",
              "    <tr>\n",
              "      <th>0</th>\n",
              "      <td>1379560</td>\n",
              "      <td>1</td>\n",
              "      <td>55</td>\n",
              "      <td>1885</td>\n",
              "      <td>136.83</td>\n",
              "      <td>152.29</td>\n",
              "      <td>0</td>\n",
              "      <td>0</td>\n",
              "      <td>5.176150</td>\n",
              "      <td>Beverages</td>\n",
              "      <td>Thai</td>\n",
              "      <td>647</td>\n",
              "      <td>56</td>\n",
              "      <td>TYPE_C</td>\n",
              "      <td>2.0</td>\n",
              "    </tr>\n",
              "    <tr>\n",
              "      <th>1</th>\n",
              "      <td>1018704</td>\n",
              "      <td>2</td>\n",
              "      <td>55</td>\n",
              "      <td>1885</td>\n",
              "      <td>135.83</td>\n",
              "      <td>152.29</td>\n",
              "      <td>0</td>\n",
              "      <td>0</td>\n",
              "      <td>5.777652</td>\n",
              "      <td>Beverages</td>\n",
              "      <td>Thai</td>\n",
              "      <td>647</td>\n",
              "      <td>56</td>\n",
              "      <td>TYPE_C</td>\n",
              "      <td>2.0</td>\n",
              "    </tr>\n",
              "    <tr>\n",
              "      <th>2</th>\n",
              "      <td>1196273</td>\n",
              "      <td>3</td>\n",
              "      <td>55</td>\n",
              "      <td>1885</td>\n",
              "      <td>132.92</td>\n",
              "      <td>133.92</td>\n",
              "      <td>0</td>\n",
              "      <td>0</td>\n",
              "      <td>4.564348</td>\n",
              "      <td>Beverages</td>\n",
              "      <td>Thai</td>\n",
              "      <td>647</td>\n",
              "      <td>56</td>\n",
              "      <td>TYPE_C</td>\n",
              "      <td>2.0</td>\n",
              "    </tr>\n",
              "    <tr>\n",
              "      <th>3</th>\n",
              "      <td>1116527</td>\n",
              "      <td>4</td>\n",
              "      <td>55</td>\n",
              "      <td>1885</td>\n",
              "      <td>135.86</td>\n",
              "      <td>134.86</td>\n",
              "      <td>0</td>\n",
              "      <td>0</td>\n",
              "      <td>5.093750</td>\n",
              "      <td>Beverages</td>\n",
              "      <td>Thai</td>\n",
              "      <td>647</td>\n",
              "      <td>56</td>\n",
              "      <td>TYPE_C</td>\n",
              "      <td>2.0</td>\n",
              "    </tr>\n",
              "    <tr>\n",
              "      <th>4</th>\n",
              "      <td>1343872</td>\n",
              "      <td>5</td>\n",
              "      <td>55</td>\n",
              "      <td>1885</td>\n",
              "      <td>146.50</td>\n",
              "      <td>147.50</td>\n",
              "      <td>0</td>\n",
              "      <td>0</td>\n",
              "      <td>5.370638</td>\n",
              "      <td>Beverages</td>\n",
              "      <td>Thai</td>\n",
              "      <td>647</td>\n",
              "      <td>56</td>\n",
              "      <td>TYPE_C</td>\n",
              "      <td>2.0</td>\n",
              "    </tr>\n",
              "  </tbody>\n",
              "</table>\n",
              "</div>"
            ],
            "text/plain": [
              "        id  week  center_id  meal_id  checkout_price  base_price  \\\n",
              "0  1379560     1         55     1885          136.83      152.29   \n",
              "1  1018704     2         55     1885          135.83      152.29   \n",
              "2  1196273     3         55     1885          132.92      133.92   \n",
              "3  1116527     4         55     1885          135.86      134.86   \n",
              "4  1343872     5         55     1885          146.50      147.50   \n",
              "\n",
              "   emailer_for_promotion  homepage_featured  num_orders   category cuisine  \\\n",
              "0                      0                  0    5.176150  Beverages    Thai   \n",
              "1                      0                  0    5.777652  Beverages    Thai   \n",
              "2                      0                  0    4.564348  Beverages    Thai   \n",
              "3                      0                  0    5.093750  Beverages    Thai   \n",
              "4                      0                  0    5.370638  Beverages    Thai   \n",
              "\n",
              "   city_code  region_code center_type  op_area  \n",
              "0        647           56      TYPE_C      2.0  \n",
              "1        647           56      TYPE_C      2.0  \n",
              "2        647           56      TYPE_C      2.0  \n",
              "3        647           56      TYPE_C      2.0  \n",
              "4        647           56      TYPE_C      2.0  "
            ]
          },
          "metadata": {
            "tags": []
          },
          "execution_count": 109
        }
      ]
    },
    {
      "metadata": {
        "id": "H1pn7jgTLIp5",
        "colab_type": "code",
        "outputId": "b1b590e0-5934-47e7-81b5-b5e2c037db72",
        "colab": {
          "base_uri": "https://localhost:8080/",
          "height": 357
        }
      },
      "cell_type": "code",
      "source": [
        "Fin_merge.info() # lets check the structure of the data"
      ],
      "execution_count": 0,
      "outputs": [
        {
          "output_type": "stream",
          "text": [
            "<class 'pandas.core.frame.DataFrame'>\n",
            "Int64Index: 456548 entries, 0 to 456547\n",
            "Data columns (total 15 columns):\n",
            "id                       456548 non-null int64\n",
            "week                     456548 non-null int64\n",
            "center_id                456548 non-null int64\n",
            "meal_id                  456548 non-null int64\n",
            "checkout_price           456548 non-null float64\n",
            "base_price               456548 non-null float64\n",
            "emailer_for_promotion    456548 non-null int64\n",
            "homepage_featured        456548 non-null int64\n",
            "num_orders               456548 non-null float64\n",
            "category                 456548 non-null object\n",
            "cuisine                  456548 non-null object\n",
            "city_code                456548 non-null int64\n",
            "region_code              456548 non-null int64\n",
            "center_type              456548 non-null object\n",
            "op_area                  456548 non-null float64\n",
            "dtypes: float64(4), int64(8), object(3)\n",
            "memory usage: 55.7+ MB\n"
          ],
          "name": "stdout"
        }
      ]
    },
    {
      "metadata": {
        "id": "q-wDUPE1LrLJ",
        "colab_type": "code",
        "outputId": "3d0ce4e0-abe4-470c-d1d0-e72746fecafb",
        "colab": {
          "base_uri": "https://localhost:8080/",
          "height": 320
        }
      },
      "cell_type": "code",
      "source": [
        "Fin_merge.describe()"
      ],
      "execution_count": 0,
      "outputs": [
        {
          "output_type": "execute_result",
          "data": {
            "text/html": [
              "<div>\n",
              "<style scoped>\n",
              "    .dataframe tbody tr th:only-of-type {\n",
              "        vertical-align: middle;\n",
              "    }\n",
              "\n",
              "    .dataframe tbody tr th {\n",
              "        vertical-align: top;\n",
              "    }\n",
              "\n",
              "    .dataframe thead th {\n",
              "        text-align: right;\n",
              "    }\n",
              "</style>\n",
              "<table border=\"1\" class=\"dataframe\">\n",
              "  <thead>\n",
              "    <tr style=\"text-align: right;\">\n",
              "      <th></th>\n",
              "      <th>id</th>\n",
              "      <th>week</th>\n",
              "      <th>center_id</th>\n",
              "      <th>meal_id</th>\n",
              "      <th>checkout_price</th>\n",
              "      <th>base_price</th>\n",
              "      <th>emailer_for_promotion</th>\n",
              "      <th>homepage_featured</th>\n",
              "      <th>num_orders</th>\n",
              "      <th>city_code</th>\n",
              "      <th>region_code</th>\n",
              "      <th>op_area</th>\n",
              "    </tr>\n",
              "  </thead>\n",
              "  <tbody>\n",
              "    <tr>\n",
              "      <th>count</th>\n",
              "      <td>4.565480e+05</td>\n",
              "      <td>456548.000000</td>\n",
              "      <td>456548.000000</td>\n",
              "      <td>456548.000000</td>\n",
              "      <td>456548.000000</td>\n",
              "      <td>456548.000000</td>\n",
              "      <td>456548.000000</td>\n",
              "      <td>456548.00000</td>\n",
              "      <td>456548.000000</td>\n",
              "      <td>456548.000000</td>\n",
              "      <td>456548.000000</td>\n",
              "      <td>456548.000000</td>\n",
              "    </tr>\n",
              "    <tr>\n",
              "      <th>mean</th>\n",
              "      <td>1.250096e+06</td>\n",
              "      <td>74.768771</td>\n",
              "      <td>82.105796</td>\n",
              "      <td>2024.337458</td>\n",
              "      <td>332.238933</td>\n",
              "      <td>354.156627</td>\n",
              "      <td>0.081152</td>\n",
              "      <td>0.10920</td>\n",
              "      <td>4.873096</td>\n",
              "      <td>601.553399</td>\n",
              "      <td>56.614566</td>\n",
              "      <td>4.083590</td>\n",
              "    </tr>\n",
              "    <tr>\n",
              "      <th>std</th>\n",
              "      <td>1.443548e+05</td>\n",
              "      <td>41.524956</td>\n",
              "      <td>45.975046</td>\n",
              "      <td>547.420920</td>\n",
              "      <td>152.939723</td>\n",
              "      <td>160.715914</td>\n",
              "      <td>0.273069</td>\n",
              "      <td>0.31189</td>\n",
              "      <td>1.219120</td>\n",
              "      <td>66.195914</td>\n",
              "      <td>17.641306</td>\n",
              "      <td>1.091686</td>\n",
              "    </tr>\n",
              "    <tr>\n",
              "      <th>min</th>\n",
              "      <td>1.000000e+06</td>\n",
              "      <td>1.000000</td>\n",
              "      <td>10.000000</td>\n",
              "      <td>1062.000000</td>\n",
              "      <td>2.970000</td>\n",
              "      <td>55.350000</td>\n",
              "      <td>0.000000</td>\n",
              "      <td>0.00000</td>\n",
              "      <td>2.564949</td>\n",
              "      <td>456.000000</td>\n",
              "      <td>23.000000</td>\n",
              "      <td>0.900000</td>\n",
              "    </tr>\n",
              "    <tr>\n",
              "      <th>25%</th>\n",
              "      <td>1.124999e+06</td>\n",
              "      <td>39.000000</td>\n",
              "      <td>43.000000</td>\n",
              "      <td>1558.000000</td>\n",
              "      <td>228.950000</td>\n",
              "      <td>243.500000</td>\n",
              "      <td>0.000000</td>\n",
              "      <td>0.00000</td>\n",
              "      <td>3.988984</td>\n",
              "      <td>553.000000</td>\n",
              "      <td>34.000000</td>\n",
              "      <td>3.600000</td>\n",
              "    </tr>\n",
              "    <tr>\n",
              "      <th>50%</th>\n",
              "      <td>1.250184e+06</td>\n",
              "      <td>76.000000</td>\n",
              "      <td>76.000000</td>\n",
              "      <td>1993.000000</td>\n",
              "      <td>296.820000</td>\n",
              "      <td>310.460000</td>\n",
              "      <td>0.000000</td>\n",
              "      <td>0.00000</td>\n",
              "      <td>4.912655</td>\n",
              "      <td>596.000000</td>\n",
              "      <td>56.000000</td>\n",
              "      <td>4.000000</td>\n",
              "    </tr>\n",
              "    <tr>\n",
              "      <th>75%</th>\n",
              "      <td>1.375140e+06</td>\n",
              "      <td>111.000000</td>\n",
              "      <td>110.000000</td>\n",
              "      <td>2539.000000</td>\n",
              "      <td>445.230000</td>\n",
              "      <td>458.870000</td>\n",
              "      <td>0.000000</td>\n",
              "      <td>0.00000</td>\n",
              "      <td>5.780744</td>\n",
              "      <td>651.000000</td>\n",
              "      <td>77.000000</td>\n",
              "      <td>4.500000</td>\n",
              "    </tr>\n",
              "    <tr>\n",
              "      <th>max</th>\n",
              "      <td>1.499999e+06</td>\n",
              "      <td>145.000000</td>\n",
              "      <td>186.000000</td>\n",
              "      <td>2956.000000</td>\n",
              "      <td>866.270000</td>\n",
              "      <td>866.270000</td>\n",
              "      <td>1.000000</td>\n",
              "      <td>1.00000</td>\n",
              "      <td>10.098190</td>\n",
              "      <td>713.000000</td>\n",
              "      <td>93.000000</td>\n",
              "      <td>7.000000</td>\n",
              "    </tr>\n",
              "  </tbody>\n",
              "</table>\n",
              "</div>"
            ],
            "text/plain": [
              "                 id           week      center_id        meal_id  \\\n",
              "count  4.565480e+05  456548.000000  456548.000000  456548.000000   \n",
              "mean   1.250096e+06      74.768771      82.105796    2024.337458   \n",
              "std    1.443548e+05      41.524956      45.975046     547.420920   \n",
              "min    1.000000e+06       1.000000      10.000000    1062.000000   \n",
              "25%    1.124999e+06      39.000000      43.000000    1558.000000   \n",
              "50%    1.250184e+06      76.000000      76.000000    1993.000000   \n",
              "75%    1.375140e+06     111.000000     110.000000    2539.000000   \n",
              "max    1.499999e+06     145.000000     186.000000    2956.000000   \n",
              "\n",
              "       checkout_price     base_price  emailer_for_promotion  \\\n",
              "count   456548.000000  456548.000000          456548.000000   \n",
              "mean       332.238933     354.156627               0.081152   \n",
              "std        152.939723     160.715914               0.273069   \n",
              "min          2.970000      55.350000               0.000000   \n",
              "25%        228.950000     243.500000               0.000000   \n",
              "50%        296.820000     310.460000               0.000000   \n",
              "75%        445.230000     458.870000               0.000000   \n",
              "max        866.270000     866.270000               1.000000   \n",
              "\n",
              "       homepage_featured     num_orders      city_code    region_code  \\\n",
              "count       456548.00000  456548.000000  456548.000000  456548.000000   \n",
              "mean             0.10920       4.873096     601.553399      56.614566   \n",
              "std              0.31189       1.219120      66.195914      17.641306   \n",
              "min              0.00000       2.564949     456.000000      23.000000   \n",
              "25%              0.00000       3.988984     553.000000      34.000000   \n",
              "50%              0.00000       4.912655     596.000000      56.000000   \n",
              "75%              0.00000       5.780744     651.000000      77.000000   \n",
              "max              1.00000      10.098190     713.000000      93.000000   \n",
              "\n",
              "             op_area  \n",
              "count  456548.000000  \n",
              "mean        4.083590  \n",
              "std         1.091686  \n",
              "min         0.900000  \n",
              "25%         3.600000  \n",
              "50%         4.000000  \n",
              "75%         4.500000  \n",
              "max         7.000000  "
            ]
          },
          "metadata": {
            "tags": []
          },
          "execution_count": 111
        }
      ]
    },
    {
      "metadata": {
        "id": "328_-P7gP75H",
        "colab_type": "code",
        "outputId": "5f2fb91a-719a-4de6-81e5-bc624d274c74",
        "colab": {
          "base_uri": "https://localhost:8080/",
          "height": 272
        }
      },
      "cell_type": "code",
      "source": [
        "#delete_columns = [\"id\",\"center_id\",\"meal_id\"]\n",
        "train = Fin_merge.drop([\"id\",\"center_id\",\"meal_id\"],axis=1)\n",
        "train.head()\n",
        "train.columns"
      ],
      "execution_count": 0,
      "outputs": [
        {
          "output_type": "execute_result",
          "data": {
            "text/html": [
              "<div>\n",
              "<style scoped>\n",
              "    .dataframe tbody tr th:only-of-type {\n",
              "        vertical-align: middle;\n",
              "    }\n",
              "\n",
              "    .dataframe tbody tr th {\n",
              "        vertical-align: top;\n",
              "    }\n",
              "\n",
              "    .dataframe thead th {\n",
              "        text-align: right;\n",
              "    }\n",
              "</style>\n",
              "<table border=\"1\" class=\"dataframe\">\n",
              "  <thead>\n",
              "    <tr style=\"text-align: right;\">\n",
              "      <th></th>\n",
              "      <th>week</th>\n",
              "      <th>checkout_price</th>\n",
              "      <th>base_price</th>\n",
              "      <th>emailer_for_promotion</th>\n",
              "      <th>homepage_featured</th>\n",
              "      <th>num_orders</th>\n",
              "      <th>category</th>\n",
              "      <th>cuisine</th>\n",
              "      <th>city_code</th>\n",
              "      <th>region_code</th>\n",
              "      <th>center_type</th>\n",
              "      <th>op_area</th>\n",
              "    </tr>\n",
              "  </thead>\n",
              "  <tbody>\n",
              "    <tr>\n",
              "      <th>0</th>\n",
              "      <td>1</td>\n",
              "      <td>136.83</td>\n",
              "      <td>152.29</td>\n",
              "      <td>0</td>\n",
              "      <td>0</td>\n",
              "      <td>5.176150</td>\n",
              "      <td>Beverages</td>\n",
              "      <td>Thai</td>\n",
              "      <td>647</td>\n",
              "      <td>56</td>\n",
              "      <td>TYPE_C</td>\n",
              "      <td>2.0</td>\n",
              "    </tr>\n",
              "    <tr>\n",
              "      <th>1</th>\n",
              "      <td>2</td>\n",
              "      <td>135.83</td>\n",
              "      <td>152.29</td>\n",
              "      <td>0</td>\n",
              "      <td>0</td>\n",
              "      <td>5.777652</td>\n",
              "      <td>Beverages</td>\n",
              "      <td>Thai</td>\n",
              "      <td>647</td>\n",
              "      <td>56</td>\n",
              "      <td>TYPE_C</td>\n",
              "      <td>2.0</td>\n",
              "    </tr>\n",
              "    <tr>\n",
              "      <th>2</th>\n",
              "      <td>3</td>\n",
              "      <td>132.92</td>\n",
              "      <td>133.92</td>\n",
              "      <td>0</td>\n",
              "      <td>0</td>\n",
              "      <td>4.564348</td>\n",
              "      <td>Beverages</td>\n",
              "      <td>Thai</td>\n",
              "      <td>647</td>\n",
              "      <td>56</td>\n",
              "      <td>TYPE_C</td>\n",
              "      <td>2.0</td>\n",
              "    </tr>\n",
              "    <tr>\n",
              "      <th>3</th>\n",
              "      <td>4</td>\n",
              "      <td>135.86</td>\n",
              "      <td>134.86</td>\n",
              "      <td>0</td>\n",
              "      <td>0</td>\n",
              "      <td>5.093750</td>\n",
              "      <td>Beverages</td>\n",
              "      <td>Thai</td>\n",
              "      <td>647</td>\n",
              "      <td>56</td>\n",
              "      <td>TYPE_C</td>\n",
              "      <td>2.0</td>\n",
              "    </tr>\n",
              "    <tr>\n",
              "      <th>4</th>\n",
              "      <td>5</td>\n",
              "      <td>146.50</td>\n",
              "      <td>147.50</td>\n",
              "      <td>0</td>\n",
              "      <td>0</td>\n",
              "      <td>5.370638</td>\n",
              "      <td>Beverages</td>\n",
              "      <td>Thai</td>\n",
              "      <td>647</td>\n",
              "      <td>56</td>\n",
              "      <td>TYPE_C</td>\n",
              "      <td>2.0</td>\n",
              "    </tr>\n",
              "  </tbody>\n",
              "</table>\n",
              "</div>"
            ],
            "text/plain": [
              "   week  checkout_price  base_price  emailer_for_promotion  homepage_featured  \\\n",
              "0     1          136.83      152.29                      0                  0   \n",
              "1     2          135.83      152.29                      0                  0   \n",
              "2     3          132.92      133.92                      0                  0   \n",
              "3     4          135.86      134.86                      0                  0   \n",
              "4     5          146.50      147.50                      0                  0   \n",
              "\n",
              "   num_orders   category cuisine  city_code  region_code center_type  op_area  \n",
              "0    5.176150  Beverages    Thai        647           56      TYPE_C      2.0  \n",
              "1    5.777652  Beverages    Thai        647           56      TYPE_C      2.0  \n",
              "2    4.564348  Beverages    Thai        647           56      TYPE_C      2.0  \n",
              "3    5.093750  Beverages    Thai        647           56      TYPE_C      2.0  \n",
              "4    5.370638  Beverages    Thai        647           56      TYPE_C      2.0  "
            ]
          },
          "metadata": {
            "tags": []
          },
          "execution_count": 112
        },
        {
          "output_type": "execute_result",
          "data": {
            "text/plain": [
              "Index(['week', 'checkout_price', 'base_price', 'emailer_for_promotion',\n",
              "       'homepage_featured', 'num_orders', 'category', 'cuisine', 'city_code',\n",
              "       'region_code', 'center_type', 'op_area'],\n",
              "      dtype='object')"
            ]
          },
          "metadata": {
            "tags": []
          },
          "execution_count": 112
        }
      ]
    },
    {
      "metadata": {
        "id": "IKXIwIENOVtV",
        "colab_type": "code",
        "outputId": "f00d9e70-5383-48bc-d1c9-16c3ab74195a",
        "colab": {
          "base_uri": "https://localhost:8080/",
          "height": 34
        }
      },
      "cell_type": "code",
      "source": [
        "#separate variables into new data frames\n",
        "numeric_data = train.select_dtypes(include=[np.number])\n",
        "#numeric_data = train.drop(\"num_orders\",axis=1)\n",
        "cat_data = train.select_dtypes(exclude=[np.number])\n",
        "print (\"There are {} numeric and {} categorical columns in train data\".format(numeric_data.shape[1],cat_data.shape[1]))"
      ],
      "execution_count": 0,
      "outputs": [
        {
          "output_type": "stream",
          "text": [
            "There are 9 numeric and 3 categorical columns in train data\n"
          ],
          "name": "stdout"
        }
      ]
    },
    {
      "metadata": {
        "id": "nr-WM2MKTn9T",
        "colab_type": "code",
        "outputId": "dcc8826c-28b8-4031-9330-9464bf411046",
        "colab": {
          "base_uri": "https://localhost:8080/",
          "height": 372
        }
      },
      "cell_type": "code",
      "source": [
        "#correlation plot\n",
        "corr = numeric_data.corr()\n",
        "sns.heatmap(corr)"
      ],
      "execution_count": 0,
      "outputs": [
        {
          "output_type": "execute_result",
          "data": {
            "text/plain": [
              "<matplotlib.axes._subplots.AxesSubplot at 0x7f79310c8048>"
            ]
          },
          "metadata": {
            "tags": []
          },
          "execution_count": 114
        },
        {
          "output_type": "display_data",
          "data": {
            "image/png": "[encoded data removed]",
            "text/plain": [
              "<matplotlib.figure.Figure at 0x7f7936d80d68>"
            ]
          },
          "metadata": {
            "tags": []
          }
        }
      ]
    },
    {
      "metadata": {
        "id": "c2xx6XcNToTj",
        "colab_type": "code",
        "outputId": "746bb929-6512-46b3-e73a-ac70a99290d4",
        "colab": {
          "base_uri": "https://localhost:8080/",
          "height": 187
        }
      },
      "cell_type": "code",
      "source": [
        "corr.num_orders.sort_values(ascending=False)"
      ],
      "execution_count": 0,
      "outputs": [
        {
          "output_type": "execute_result",
          "data": {
            "text/plain": [
              "num_orders               1.000000\n",
              "homepage_featured        0.248002\n",
              "emailer_for_promotion    0.227207\n",
              "op_area                  0.195052\n",
              "city_code                0.030150\n",
              "region_code              0.029696\n",
              "week                    -0.008281\n",
              "base_price              -0.329368\n",
              "checkout_price          -0.389116\n",
              "Name: num_orders, dtype: float64"
            ]
          },
          "metadata": {
            "tags": []
          },
          "execution_count": 115
        }
      ]
    },
    {
      "metadata": {
        "id": "D2Y06u_SV53U",
        "colab_type": "code",
        "outputId": "ffbb011e-ef02-4853-99fe-26e982e02f98",
        "colab": {
          "base_uri": "https://localhost:8080/",
          "height": 441
        }
      },
      "cell_type": "code",
      "source": [
        "\n",
        "sns.jointplot(x=train['homepage_featured'], y=train['num_orders']);"
      ],
      "execution_count": 0,
      "outputs": [
        {
          "output_type": "display_data",
          "data": {
            "image/png": "[encoded data removed]",
            "text/plain": [
              "<matplotlib.figure.Figure at 0x7f7931081f98>"
            ]
          },
          "metadata": {
            "tags": []
          }
        }
      ]
    },
    {
      "metadata": {
        "id": "1cUkFpguccts",
        "colab_type": "text"
      },
      "cell_type": "markdown",
      "source": [
        "This shows meals feaured in homepage bring more orders. Notice we have outliers present . 0 meaning not featured and 1 meaning featured in homepage respectively."
      ]
    },
    {
      "metadata": {
        "id": "PaHAEy9DcbpV",
        "colab_type": "code",
        "colab": {}
      },
      "cell_type": "code",
      "source": [
        ""
      ],
      "execution_count": 0,
      "outputs": []
    },
    {
      "metadata": {
        "id": "9AL_7BJBbrZm",
        "colab_type": "code",
        "outputId": "1d75dc59-b772-4edd-e80d-756bdee78fa9",
        "colab": {
          "base_uri": "https://localhost:8080/",
          "height": 674
        }
      },
      "cell_type": "code",
      "source": [
        "#create numeric plots\n",
        "num = [f for f in train.columns if train.dtypes[f] != 'object']\n",
        "# num.remove([\"id\",\"center_id\",\"meal_id\"])\n",
        "# num.remove(\"id\")\n",
        "# num.remove(\"center_id\")\n",
        "# num.remove(\"meal_id\")\n",
        "\n",
        "nd = pd.melt(train, value_vars = num)\n",
        "n1 = sns.FacetGrid (nd, col='variable', col_wrap=4, sharex=False, sharey = False)\n",
        "n1 = n1.map(sns.distplot, 'value')\n",
        "n1"
      ],
      "execution_count": 0,
      "outputs": [
        {
          "output_type": "execute_result",
          "data": {
            "text/plain": [
              "<seaborn.axisgrid.FacetGrid at 0x7f7930f6bdd8>"
            ]
          },
          "metadata": {
            "tags": []
          },
          "execution_count": 117
        },
        {
          "output_type": "display_data",
          "data": {
            "image/png": "[encoded data removed]",
            "text/plain": [
              "<matplotlib.figure.Figure at 0x7f7930f00be0>"
            ]
          },
          "metadata": {
            "tags": []
          }
        }
      ]
    },
    {
      "metadata": {
        "id": "GPGxiVfzdIag",
        "colab_type": "text"
      },
      "cell_type": "markdown",
      "source": [
        "Some of the variables are skwed, we will come back again for normalizing"
      ]
    },
    {
      "metadata": {
        "id": "DjMypiUbdG7O",
        "colab_type": "code",
        "colab": {}
      },
      "cell_type": "code",
      "source": [
        ""
      ],
      "execution_count": 0,
      "outputs": []
    },
    {
      "metadata": {
        "id": "khl2nWYBV61l",
        "colab_type": "code",
        "outputId": "0cdc7f8d-218c-454c-fc3b-7f7a04aff793",
        "colab": {
          "base_uri": "https://localhost:8080/",
          "height": 173
        }
      },
      "cell_type": "code",
      "source": [
        "# lets take a look in categorical features\n",
        "cat_data.describe()"
      ],
      "execution_count": 0,
      "outputs": [
        {
          "output_type": "execute_result",
          "data": {
            "text/html": [
              "<div>\n",
              "<style scoped>\n",
              "    .dataframe tbody tr th:only-of-type {\n",
              "        vertical-align: middle;\n",
              "    }\n",
              "\n",
              "    .dataframe tbody tr th {\n",
              "        vertical-align: top;\n",
              "    }\n",
              "\n",
              "    .dataframe thead th {\n",
              "        text-align: right;\n",
              "    }\n",
              "</style>\n",
              "<table border=\"1\" class=\"dataframe\">\n",
              "  <thead>\n",
              "    <tr style=\"text-align: right;\">\n",
              "      <th></th>\n",
              "      <th>category</th>\n",
              "      <th>cuisine</th>\n",
              "      <th>center_type</th>\n",
              "    </tr>\n",
              "  </thead>\n",
              "  <tbody>\n",
              "    <tr>\n",
              "      <th>count</th>\n",
              "      <td>456548</td>\n",
              "      <td>456548</td>\n",
              "      <td>456548</td>\n",
              "    </tr>\n",
              "    <tr>\n",
              "      <th>unique</th>\n",
              "      <td>14</td>\n",
              "      <td>4</td>\n",
              "      <td>3</td>\n",
              "    </tr>\n",
              "    <tr>\n",
              "      <th>top</th>\n",
              "      <td>Beverages</td>\n",
              "      <td>Italian</td>\n",
              "      <td>TYPE_A</td>\n",
              "    </tr>\n",
              "    <tr>\n",
              "      <th>freq</th>\n",
              "      <td>127890</td>\n",
              "      <td>122925</td>\n",
              "      <td>262881</td>\n",
              "    </tr>\n",
              "  </tbody>\n",
              "</table>\n",
              "</div>"
            ],
            "text/plain": [
              "         category  cuisine center_type\n",
              "count      456548   456548      456548\n",
              "unique         14        4           3\n",
              "top     Beverages  Italian      TYPE_A\n",
              "freq       127890   122925      262881"
            ]
          },
          "metadata": {
            "tags": []
          },
          "execution_count": 118
        }
      ]
    },
    {
      "metadata": {
        "id": "6JFyUe2EV665",
        "colab_type": "code",
        "outputId": "b8b3e36d-e3f6-4bea-d8cd-98a3a423428a",
        "colab": {
          "base_uri": "https://localhost:8080/",
          "height": 347
        }
      },
      "cell_type": "code",
      "source": [
        "category_pivot = train.pivot_table(index='category', values='num_orders', aggfunc=np.median)\n",
        "category_pivot.plot(kind=\"bar\")  # there is chance for feature engineering, grouping category group , high low medium demand."
      ],
      "execution_count": 0,
      "outputs": [
        {
          "output_type": "execute_result",
          "data": {
            "text/plain": [
              "<matplotlib.axes._subplots.AxesSubplot at 0x7f7930fd7080>"
            ]
          },
          "metadata": {
            "tags": []
          },
          "execution_count": 119
        },
        {
          "output_type": "display_data",
          "data": {
            "image/png": "[encoded data removed]",
            "text/plain": [
              "<matplotlib.figure.Figure at 0x7f7930fe2fd0>"
            ]
          },
          "metadata": {
            "tags": []
          }
        }
      ]
    },
    {
      "metadata": {
        "id": "hs4MFhtnZKSE",
        "colab_type": "text"
      },
      "cell_type": "markdown",
      "source": [
        "there is chance for feature engineering, grouping category group , high low medium demand. lets come back later"
      ]
    },
    {
      "metadata": {
        "id": "outxmw9-ZGuQ",
        "colab_type": "code",
        "outputId": "87ee556b-4805-4b42-bff5-c2279f1ca51d",
        "colab": {
          "base_uri": "https://localhost:8080/",
          "height": 320
        }
      },
      "cell_type": "code",
      "source": [
        "cuisine_pivot = train.pivot_table(index='cuisine', values='num_orders', aggfunc=np.median)\n",
        "cuisine_pivot.plot(kind=\"bar\")  ;"
      ],
      "execution_count": 0,
      "outputs": [
        {
          "output_type": "display_data",
          "data": {
            "image/png": "[encoded data removed]",
            "text/plain": [
              "<matplotlib.figure.Figure at 0x7f7930a66438>"
            ]
          },
          "metadata": {
            "tags": []
          }
        }
      ]
    },
    {
      "metadata": {
        "id": "maEdYsx5ZY9v",
        "colab_type": "code",
        "outputId": "53d8eb0d-ec73-486a-a780-5d36396c819a",
        "colab": {
          "base_uri": "https://localhost:8080/",
          "height": 308
        }
      },
      "cell_type": "code",
      "source": [
        "center_type_pivot = train.pivot_table(index='center_type', values='num_orders', aggfunc=np.median)\n",
        "center_type_pivot.plot(kind=\"bar\") ;"
      ],
      "execution_count": 0,
      "outputs": [
        {
          "output_type": "display_data",
          "data": {
            "image/png": "[encoded data removed]",
            "text/plain": [
              "<matplotlib.figure.Figure at 0x7f7931032ba8>"
            ]
          },
          "metadata": {
            "tags": []
          }
        }
      ]
    },
    {
      "metadata": {
        "id": "Wne5dJhONfUi",
        "colab_type": "code",
        "colab": {}
      },
      "cell_type": "code",
      "source": [
        ""
      ],
      "execution_count": 0,
      "outputs": []
    },
    {
      "metadata": {
        "id": "7fFldwHPNiJ2",
        "colab_type": "code",
        "outputId": "61f2b628-c30c-4937-8aaa-e0aaed316b93",
        "colab": {
          "base_uri": "https://localhost:8080/",
          "height": 763
        }
      },
      "cell_type": "code",
      "source": [
        "def boxplot(x,y,**kwargs):\n",
        "            sns.boxplot(x=x,y=y)\n",
        "            x = plt.xticks(rotation=90)\n",
        "\n",
        "cat = [f for f in train.columns if train.dtypes[f] == 'object']\n",
        "\n",
        "p = pd.melt(train, id_vars='num_orders', value_vars=cat)\n",
        "g = sns.FacetGrid (p, col='variable', col_wrap=2, sharex=False, sharey=False, size=5)\n",
        "g = g.map(boxplot, 'value','num_orders')\n",
        "g;"
      ],
      "execution_count": 0,
      "outputs": [
        {
          "output_type": "stream",
          "text": [
            "/usr/local/lib/python3.6/dist-packages/seaborn/categorical.py:454: FutureWarning: remove_na is deprecated and is a private function. Do not use.\n",
            "  box_data = remove_na(group_data)\n"
          ],
          "name": "stderr"
        },
        {
          "output_type": "display_data",
          "data": {
            "image/png": "[encoded data removed]",
            "text/plain": [
              "<matplotlib.figure.Figure at 0x7f79307dd9e8>"
            ]
          },
          "metadata": {
            "tags": []
          }
        }
      ]
    },
    {
      "metadata": {
        "id": "vL8iSODMfENl",
        "colab_type": "text"
      },
      "cell_type": "markdown",
      "source": [
        "WOW! so many outliers"
      ]
    },
    {
      "metadata": {
        "id": "n7SnEKilemey",
        "colab_type": "code",
        "outputId": "00b46b23-d9f0-4f0d-c5bb-513221a707bc",
        "colab": {
          "base_uri": "https://localhost:8080/",
          "height": 34
        }
      },
      "cell_type": "code",
      "source": [
        "# Lets remove some outlier... based on homepage_featured ordering more than \n",
        "\n",
        "\n",
        "#sns.jointplot(x=train['homepage_featured'], y=train['num_orders']);\n",
        "\n",
        "train.drop(train[train['homepage_featured'] > 12000].index, inplace=True)\n",
        "train.shape\n",
        "\n",
        "# looks like no data has been removed, crosscheck later"
      ],
      "execution_count": 0,
      "outputs": [
        {
          "output_type": "execute_result",
          "data": {
            "text/plain": [
              "(456548, 12)"
            ]
          },
          "metadata": {
            "tags": []
          },
          "execution_count": 123
        }
      ]
    },
    {
      "metadata": {
        "id": "n8rwSuMDsixS",
        "colab_type": "code",
        "outputId": "af498a48-a720-43a2-b7b2-6743a7ff213d",
        "colab": {
          "base_uri": "https://localhost:8080/",
          "height": 108
        }
      },
      "cell_type": "code",
      "source": [
        "num_features = [\"checkout_price\",\"base_price\",\"city_code\",\"region_code\",\"op_area\"]\n",
        "from sklearn.preprocessing import StandardScaler\n",
        "scaler = StandardScaler()\n",
        "scaler.fit(train[num_features])\n",
        "scaled = scaler.transform(train[num_features])\n",
        "\n",
        "for i, col in enumerate(num_features):\n",
        "       train[col] = scaled[:,i]"
      ],
      "execution_count": 0,
      "outputs": [
        {
          "output_type": "stream",
          "text": [
            "/usr/local/lib/python3.6/dist-packages/sklearn/preprocessing/data.py:625: DataConversionWarning: Data with input dtype int64, float64 were all converted to float64 by StandardScaler.\n",
            "  return self.partial_fit(X, y)\n"
          ],
          "name": "stderr"
        },
        {
          "output_type": "execute_result",
          "data": {
            "text/plain": [
              "StandardScaler(copy=True, with_mean=True, with_std=True)"
            ]
          },
          "metadata": {
            "tags": []
          },
          "execution_count": 124
        },
        {
          "output_type": "stream",
          "text": [
            "/usr/local/lib/python3.6/dist-packages/ipykernel_launcher.py:5: DataConversionWarning: Data with input dtype int64, float64 were all converted to float64 by StandardScaler.\n",
            "  \"\"\"\n"
          ],
          "name": "stderr"
        }
      ]
    },
    {
      "metadata": {
        "id": "YVfxXuLFvmDH",
        "colab_type": "code",
        "outputId": "4d4f2436-1d82-4afb-c066-11d29bc924ef",
        "colab": {
          "base_uri": "https://localhost:8080/",
          "height": 204
        }
      },
      "cell_type": "code",
      "source": [
        "train.head()"
      ],
      "execution_count": 0,
      "outputs": [
        {
          "output_type": "execute_result",
          "data": {
            "text/html": [
              "<div>\n",
              "<style scoped>\n",
              "    .dataframe tbody tr th:only-of-type {\n",
              "        vertical-align: middle;\n",
              "    }\n",
              "\n",
              "    .dataframe tbody tr th {\n",
              "        vertical-align: top;\n",
              "    }\n",
              "\n",
              "    .dataframe thead th {\n",
              "        text-align: right;\n",
              "    }\n",
              "</style>\n",
              "<table border=\"1\" class=\"dataframe\">\n",
              "  <thead>\n",
              "    <tr style=\"text-align: right;\">\n",
              "      <th></th>\n",
              "      <th>week</th>\n",
              "      <th>checkout_price</th>\n",
              "      <th>base_price</th>\n",
              "      <th>emailer_for_promotion</th>\n",
              "      <th>homepage_featured</th>\n",
              "      <th>num_orders</th>\n",
              "      <th>category</th>\n",
              "      <th>cuisine</th>\n",
              "      <th>city_code</th>\n",
              "      <th>region_code</th>\n",
              "      <th>center_type</th>\n",
              "      <th>op_area</th>\n",
              "    </tr>\n",
              "  </thead>\n",
              "  <tbody>\n",
              "    <tr>\n",
              "      <th>0</th>\n",
              "      <td>1</td>\n",
              "      <td>-1.277687</td>\n",
              "      <td>-1.256048</td>\n",
              "      <td>0</td>\n",
              "      <td>0</td>\n",
              "      <td>5.176150</td>\n",
              "      <td>Beverages</td>\n",
              "      <td>Thai</td>\n",
              "      <td>0.686548</td>\n",
              "      <td>-0.034837</td>\n",
              "      <td>TYPE_C</td>\n",
              "      <td>-1.9086</td>\n",
              "    </tr>\n",
              "    <tr>\n",
              "      <th>1</th>\n",
              "      <td>2</td>\n",
              "      <td>-1.284226</td>\n",
              "      <td>-1.256048</td>\n",
              "      <td>0</td>\n",
              "      <td>0</td>\n",
              "      <td>5.777652</td>\n",
              "      <td>Beverages</td>\n",
              "      <td>Thai</td>\n",
              "      <td>0.686548</td>\n",
              "      <td>-0.034837</td>\n",
              "      <td>TYPE_C</td>\n",
              "      <td>-1.9086</td>\n",
              "    </tr>\n",
              "    <tr>\n",
              "      <th>2</th>\n",
              "      <td>3</td>\n",
              "      <td>-1.303253</td>\n",
              "      <td>-1.370349</td>\n",
              "      <td>0</td>\n",
              "      <td>0</td>\n",
              "      <td>4.564348</td>\n",
              "      <td>Beverages</td>\n",
              "      <td>Thai</td>\n",
              "      <td>0.686548</td>\n",
              "      <td>-0.034837</td>\n",
              "      <td>TYPE_C</td>\n",
              "      <td>-1.9086</td>\n",
              "    </tr>\n",
              "    <tr>\n",
              "      <th>3</th>\n",
              "      <td>4</td>\n",
              "      <td>-1.284030</td>\n",
              "      <td>-1.364500</td>\n",
              "      <td>0</td>\n",
              "      <td>0</td>\n",
              "      <td>5.093750</td>\n",
              "      <td>Beverages</td>\n",
              "      <td>Thai</td>\n",
              "      <td>0.686548</td>\n",
              "      <td>-0.034837</td>\n",
              "      <td>TYPE_C</td>\n",
              "      <td>-1.9086</td>\n",
              "    </tr>\n",
              "    <tr>\n",
              "      <th>4</th>\n",
              "      <td>5</td>\n",
              "      <td>-1.214460</td>\n",
              "      <td>-1.285852</td>\n",
              "      <td>0</td>\n",
              "      <td>0</td>\n",
              "      <td>5.370638</td>\n",
              "      <td>Beverages</td>\n",
              "      <td>Thai</td>\n",
              "      <td>0.686548</td>\n",
              "      <td>-0.034837</td>\n",
              "      <td>TYPE_C</td>\n",
              "      <td>-1.9086</td>\n",
              "    </tr>\n",
              "  </tbody>\n",
              "</table>\n",
              "</div>"
            ],
            "text/plain": [
              "   week  checkout_price  base_price  emailer_for_promotion  homepage_featured  \\\n",
              "0     1       -1.277687   -1.256048                      0                  0   \n",
              "1     2       -1.284226   -1.256048                      0                  0   \n",
              "2     3       -1.303253   -1.370349                      0                  0   \n",
              "3     4       -1.284030   -1.364500                      0                  0   \n",
              "4     5       -1.214460   -1.285852                      0                  0   \n",
              "\n",
              "   num_orders   category cuisine  city_code  region_code center_type  op_area  \n",
              "0    5.176150  Beverages    Thai   0.686548    -0.034837      TYPE_C  -1.9086  \n",
              "1    5.777652  Beverages    Thai   0.686548    -0.034837      TYPE_C  -1.9086  \n",
              "2    4.564348  Beverages    Thai   0.686548    -0.034837      TYPE_C  -1.9086  \n",
              "3    5.093750  Beverages    Thai   0.686548    -0.034837      TYPE_C  -1.9086  \n",
              "4    5.370638  Beverages    Thai   0.686548    -0.034837      TYPE_C  -1.9086  "
            ]
          },
          "metadata": {
            "tags": []
          },
          "execution_count": 125
        }
      ]
    },
    {
      "metadata": {
        "id": "uDNP8pphgxSH",
        "colab_type": "code",
        "colab": {}
      },
      "cell_type": "code",
      "source": [
        "#importing function\n",
        "from sklearn.preprocessing import LabelEncoder\n",
        "from sklearn.preprocessing import OneHotEncoder\n",
        "from sklearn.preprocessing import LabelBinarizer\n",
        "le = LabelEncoder()\n",
        "hot = OneHotEncoder()\n",
        "lb = LabelBinarizer()\n",
        "# def factorize(data, var, fill_na = None):\n",
        "#       if fill_na is not None:\n",
        "#             data[var].fillna(fill_na, inplace=True)\n",
        "#       le.fit(data[var])\n",
        "#       data[var] = le.transform(data[var])\n",
        "#       return data\n"
      ],
      "execution_count": 0,
      "outputs": []
    },
    {
      "metadata": {
        "id": "xRMIEHY8hjl-",
        "colab_type": "code",
        "colab": {}
      },
      "cell_type": "code",
      "source": [
        "cat_var = np.array([\"category\",\"cuisine\",\"center_type\"])\n",
        "\n",
        "#category = lb.fit_transform(train.category)\n",
        "for col in cat_var:\n",
        "  train[col] = lb.fit_transform(train[col])\n",
        "# cuisine = lb.fit_transform(train.cuisine)\n",
        "# center_type = lb.fit_transform(train.center_type)\n",
        "# cuisine"
      ],
      "execution_count": 0,
      "outputs": []
    },
    {
      "metadata": {
        "id": "nHoyeBQNqEWS",
        "colab_type": "code",
        "outputId": "ad402c6b-8018-4060-ad09-788a6800912a",
        "colab": {
          "base_uri": "https://localhost:8080/",
          "height": 204
        }
      },
      "cell_type": "code",
      "source": [
        "train.head()"
      ],
      "execution_count": 0,
      "outputs": [
        {
          "output_type": "execute_result",
          "data": {
            "text/html": [
              "<div>\n",
              "<style scoped>\n",
              "    .dataframe tbody tr th:only-of-type {\n",
              "        vertical-align: middle;\n",
              "    }\n",
              "\n",
              "    .dataframe tbody tr th {\n",
              "        vertical-align: top;\n",
              "    }\n",
              "\n",
              "    .dataframe thead th {\n",
              "        text-align: right;\n",
              "    }\n",
              "</style>\n",
              "<table border=\"1\" class=\"dataframe\">\n",
              "  <thead>\n",
              "    <tr style=\"text-align: right;\">\n",
              "      <th></th>\n",
              "      <th>week</th>\n",
              "      <th>checkout_price</th>\n",
              "      <th>base_price</th>\n",
              "      <th>emailer_for_promotion</th>\n",
              "      <th>homepage_featured</th>\n",
              "      <th>num_orders</th>\n",
              "      <th>category</th>\n",
              "      <th>cuisine</th>\n",
              "      <th>city_code</th>\n",
              "      <th>region_code</th>\n",
              "      <th>center_type</th>\n",
              "      <th>op_area</th>\n",
              "    </tr>\n",
              "  </thead>\n",
              "  <tbody>\n",
              "    <tr>\n",
              "      <th>0</th>\n",
              "      <td>1</td>\n",
              "      <td>-1.277687</td>\n",
              "      <td>-1.256048</td>\n",
              "      <td>0</td>\n",
              "      <td>0</td>\n",
              "      <td>5.176150</td>\n",
              "      <td>1</td>\n",
              "      <td>0</td>\n",
              "      <td>0.686548</td>\n",
              "      <td>-0.034837</td>\n",
              "      <td>0</td>\n",
              "      <td>-1.9086</td>\n",
              "    </tr>\n",
              "    <tr>\n",
              "      <th>1</th>\n",
              "      <td>2</td>\n",
              "      <td>-1.284226</td>\n",
              "      <td>-1.256048</td>\n",
              "      <td>0</td>\n",
              "      <td>0</td>\n",
              "      <td>5.777652</td>\n",
              "      <td>1</td>\n",
              "      <td>0</td>\n",
              "      <td>0.686548</td>\n",
              "      <td>-0.034837</td>\n",
              "      <td>0</td>\n",
              "      <td>-1.9086</td>\n",
              "    </tr>\n",
              "    <tr>\n",
              "      <th>2</th>\n",
              "      <td>3</td>\n",
              "      <td>-1.303253</td>\n",
              "      <td>-1.370349</td>\n",
              "      <td>0</td>\n",
              "      <td>0</td>\n",
              "      <td>4.564348</td>\n",
              "      <td>1</td>\n",
              "      <td>0</td>\n",
              "      <td>0.686548</td>\n",
              "      <td>-0.034837</td>\n",
              "      <td>0</td>\n",
              "      <td>-1.9086</td>\n",
              "    </tr>\n",
              "    <tr>\n",
              "      <th>3</th>\n",
              "      <td>4</td>\n",
              "      <td>-1.284030</td>\n",
              "      <td>-1.364500</td>\n",
              "      <td>0</td>\n",
              "      <td>0</td>\n",
              "      <td>5.093750</td>\n",
              "      <td>1</td>\n",
              "      <td>0</td>\n",
              "      <td>0.686548</td>\n",
              "      <td>-0.034837</td>\n",
              "      <td>0</td>\n",
              "      <td>-1.9086</td>\n",
              "    </tr>\n",
              "    <tr>\n",
              "      <th>4</th>\n",
              "      <td>5</td>\n",
              "      <td>-1.214460</td>\n",
              "      <td>-1.285852</td>\n",
              "      <td>0</td>\n",
              "      <td>0</td>\n",
              "      <td>5.370638</td>\n",
              "      <td>1</td>\n",
              "      <td>0</td>\n",
              "      <td>0.686548</td>\n",
              "      <td>-0.034837</td>\n",
              "      <td>0</td>\n",
              "      <td>-1.9086</td>\n",
              "    </tr>\n",
              "  </tbody>\n",
              "</table>\n",
              "</div>"
            ],
            "text/plain": [
              "   week  checkout_price  base_price  emailer_for_promotion  homepage_featured  \\\n",
              "0     1       -1.277687   -1.256048                      0                  0   \n",
              "1     2       -1.284226   -1.256048                      0                  0   \n",
              "2     3       -1.303253   -1.370349                      0                  0   \n",
              "3     4       -1.284030   -1.364500                      0                  0   \n",
              "4     5       -1.214460   -1.285852                      0                  0   \n",
              "\n",
              "   num_orders  category  cuisine  city_code  region_code  center_type  op_area  \n",
              "0    5.176150         1        0   0.686548    -0.034837            0  -1.9086  \n",
              "1    5.777652         1        0   0.686548    -0.034837            0  -1.9086  \n",
              "2    4.564348         1        0   0.686548    -0.034837            0  -1.9086  \n",
              "3    5.093750         1        0   0.686548    -0.034837            0  -1.9086  \n",
              "4    5.370638         1        0   0.686548    -0.034837            0  -1.9086  "
            ]
          },
          "metadata": {
            "tags": []
          },
          "execution_count": 128
        }
      ]
    },
    {
      "metadata": {
        "id": "6V2jKIqWsxd0",
        "colab_type": "code",
        "colab": {}
      },
      "cell_type": "code",
      "source": [
        "from sklearn.ensemble import GradientBoostingRegressor\n",
        "\n",
        "est = GradientBoostingRegressor(n_estimators=100, max_depth=3, loss='ls')\n"
      ],
      "execution_count": 0,
      "outputs": []
    },
    {
      "metadata": {
        "id": "sg0l7I003KFa",
        "colab_type": "code",
        "colab": {}
      },
      "cell_type": "code",
      "source": [
        "# import xgboost as xgb\n",
        "# regr = xgb.XGBRegressor(colsample_bytree=0.2,\n",
        "#                        gamma=0.0,\n",
        "#                        learning_rate=0.05,\n",
        "#                        max_depth=6,\n",
        "#                        min_child_weight=1.5,\n",
        "#                        n_estimators=7200,\n",
        "#                        reg_alpha=0.9,\n",
        "#                        reg_lambda=0.6,\n",
        "#                        subsample=0.2,\n",
        "#                        seed=42,\n",
        "#                        silent=1)\n",
        "\n",
        "# regr.fit(x_train, y_train)"
      ],
      "execution_count": 0,
      "outputs": []
    },
    {
      "metadata": {
        "id": "5GBuTN333YSj",
        "colab_type": "code",
        "outputId": "ce6aa6ed-eb40-4732-b8d7-93a2dc2e34d1",
        "colab": {
          "base_uri": "https://localhost:8080/",
          "height": 204
        }
      },
      "cell_type": "code",
      "source": [
        "test.head()"
      ],
      "execution_count": 0,
      "outputs": [
        {
          "output_type": "execute_result",
          "data": {
            "text/html": [
              "<div>\n",
              "<style scoped>\n",
              "    .dataframe tbody tr th:only-of-type {\n",
              "        vertical-align: middle;\n",
              "    }\n",
              "\n",
              "    .dataframe tbody tr th {\n",
              "        vertical-align: top;\n",
              "    }\n",
              "\n",
              "    .dataframe thead th {\n",
              "        text-align: right;\n",
              "    }\n",
              "</style>\n",
              "<table border=\"1\" class=\"dataframe\">\n",
              "  <thead>\n",
              "    <tr style=\"text-align: right;\">\n",
              "      <th></th>\n",
              "      <th>id</th>\n",
              "      <th>week</th>\n",
              "      <th>center_id</th>\n",
              "      <th>meal_id</th>\n",
              "      <th>checkout_price</th>\n",
              "      <th>base_price</th>\n",
              "      <th>emailer_for_promotion</th>\n",
              "      <th>homepage_featured</th>\n",
              "    </tr>\n",
              "  </thead>\n",
              "  <tbody>\n",
              "    <tr>\n",
              "      <th>0</th>\n",
              "      <td>1028232</td>\n",
              "      <td>146</td>\n",
              "      <td>55</td>\n",
              "      <td>1885</td>\n",
              "      <td>158.11</td>\n",
              "      <td>159.11</td>\n",
              "      <td>0</td>\n",
              "      <td>0</td>\n",
              "    </tr>\n",
              "    <tr>\n",
              "      <th>1</th>\n",
              "      <td>1127204</td>\n",
              "      <td>146</td>\n",
              "      <td>55</td>\n",
              "      <td>1993</td>\n",
              "      <td>160.11</td>\n",
              "      <td>159.11</td>\n",
              "      <td>0</td>\n",
              "      <td>0</td>\n",
              "    </tr>\n",
              "    <tr>\n",
              "      <th>2</th>\n",
              "      <td>1212707</td>\n",
              "      <td>146</td>\n",
              "      <td>55</td>\n",
              "      <td>2539</td>\n",
              "      <td>157.14</td>\n",
              "      <td>159.14</td>\n",
              "      <td>0</td>\n",
              "      <td>0</td>\n",
              "    </tr>\n",
              "    <tr>\n",
              "      <th>3</th>\n",
              "      <td>1082698</td>\n",
              "      <td>146</td>\n",
              "      <td>55</td>\n",
              "      <td>2631</td>\n",
              "      <td>162.02</td>\n",
              "      <td>162.02</td>\n",
              "      <td>0</td>\n",
              "      <td>0</td>\n",
              "    </tr>\n",
              "    <tr>\n",
              "      <th>4</th>\n",
              "      <td>1400926</td>\n",
              "      <td>146</td>\n",
              "      <td>55</td>\n",
              "      <td>1248</td>\n",
              "      <td>163.93</td>\n",
              "      <td>163.93</td>\n",
              "      <td>0</td>\n",
              "      <td>0</td>\n",
              "    </tr>\n",
              "  </tbody>\n",
              "</table>\n",
              "</div>"
            ],
            "text/plain": [
              "        id  week  center_id  meal_id  checkout_price  base_price  \\\n",
              "0  1028232   146         55     1885          158.11      159.11   \n",
              "1  1127204   146         55     1993          160.11      159.11   \n",
              "2  1212707   146         55     2539          157.14      159.14   \n",
              "3  1082698   146         55     2631          162.02      162.02   \n",
              "4  1400926   146         55     1248          163.93      163.93   \n",
              "\n",
              "   emailer_for_promotion  homepage_featured  \n",
              "0                      0                  0  \n",
              "1                      0                  0  \n",
              "2                      0                  0  \n",
              "3                      0                  0  \n",
              "4                      0                  0  "
            ]
          },
          "metadata": {
            "tags": []
          },
          "execution_count": 131
        }
      ]
    },
    {
      "metadata": {
        "id": "ClWotTLwtxtg",
        "colab_type": "code",
        "colab": {}
      },
      "cell_type": "code",
      "source": [
        "\n",
        "labels = train[\"num_orders\"]\n",
        "train = train.drop(\"num_orders\",axis=1)\n"
      ],
      "execution_count": 0,
      "outputs": []
    },
    {
      "metadata": {
        "id": "c5dYnv3rLd9T",
        "colab_type": "code",
        "outputId": "b553e10a-6066-4b4a-f36f-782701f33272",
        "colab": {
          "base_uri": "https://localhost:8080/",
          "height": 153
        }
      },
      "cell_type": "code",
      "source": [
        "from sklearn.model_selection import train_test_split\n",
        "from sklearn.metrics import mean_squared_error\n",
        "\n",
        "x_train,x_test,y_train,y_test = train_test_split(train, labels,random_state= 1 )\n",
        "\n",
        "# fit estimator\n",
        "est.fit(x_train, y_train)\n",
        "\n",
        "# predict \n",
        "pred = est.predict(x_test)\n",
        "\n",
        "# score on test data (accuracy)\n",
        "acc = mean_squared_error(y_test, pred)\n",
        "acc"
      ],
      "execution_count": 0,
      "outputs": [
        {
          "output_type": "execute_result",
          "data": {
            "text/plain": [
              "GradientBoostingRegressor(alpha=0.9, criterion='friedman_mse', init=None,\n",
              "             learning_rate=0.1, loss='ls', max_depth=3, max_features=None,\n",
              "             max_leaf_nodes=None, min_impurity_decrease=0.0,\n",
              "             min_impurity_split=None, min_samples_leaf=1,\n",
              "             min_samples_split=2, min_weight_fraction_leaf=0.0,\n",
              "             n_estimators=100, n_iter_no_change=None, presort='auto',\n",
              "             random_state=None, subsample=1.0, tol=0.0001,\n",
              "             validation_fraction=0.1, verbose=0, warm_start=False)"
            ]
          },
          "metadata": {
            "tags": []
          },
          "execution_count": 133
        },
        {
          "output_type": "execute_result",
          "data": {
            "text/plain": [
              "0.7554904956276588"
            ]
          },
          "metadata": {
            "tags": []
          },
          "execution_count": 133
        }
      ]
    },
    {
      "metadata": {
        "id": "4D6L3SaqJxUn",
        "colab_type": "code",
        "outputId": "82bb20a0-d00c-4dca-f1d3-ed2c5cf33f3c",
        "colab": {
          "base_uri": "https://localhost:8080/",
          "height": 91
        }
      },
      "cell_type": "code",
      "source": [
        "from sklearn.model_selection  import GridSearchCV\n",
        "\n",
        "param_grid = {'learning_rate': [0.1, 0.01, 0.001],\n",
        "              'max_depth': [4, 6],\n",
        "              'min_samples_leaf': [3, 5]  ## depends on the nr of training examples\n",
        "              # 'max_features': [1.0, 0.3, 0.1] ## not possible in our example (only 1 fx)\n",
        "              }\n",
        "\n",
        "est = GradientBoostingRegressor(n_estimators=1)\n",
        "# this may take some minutes\n",
        "gs_cv = GridSearchCV(est, param_grid, scoring=\"neg_mean_squared_log_error\", n_jobs=4).fit(x_train, y_train)\n",
        "\n",
        "# best hyperparameter setting\n",
        "print('Best hyperparameters: %r' % gs_cv.best_params_)"
      ],
      "execution_count": 0,
      "outputs": [
        {
          "output_type": "stream",
          "text": [
            "/usr/local/lib/python3.6/dist-packages/sklearn/model_selection/_split.py:2053: FutureWarning: You should specify a value for 'cv' instead of relying on the default value. The default value will change from 3 to 5 in version 0.22.\n",
            "  warnings.warn(CV_WARNING, FutureWarning)\n"
          ],
          "name": "stderr"
        },
        {
          "output_type": "stream",
          "text": [
            "Best hyperparameters: {'learning_rate': 0.1, 'max_depth': 6, 'min_samples_leaf': 3}\n"
          ],
          "name": "stdout"
        }
      ]
    },
    {
      "metadata": {
        "id": "fKc3hDNBh6ih",
        "colab_type": "code",
        "colab": {}
      },
      "cell_type": "code",
      "source": [
        "est.set_params(**gs_cv.best_params_)\n",
        "\n",
        "# fit estimator\n",
        "est.fit(x_train, y_train)\n",
        "\n",
        "# predict \n",
        "pred = est.predict(x_test)\n",
        "\n",
        "# score on test data (accuracy)\n",
        "acc = mean_squared_error(y_test, pred)\n",
        "acc"
      ],
      "execution_count": 0,
      "outputs": []
    },
    {
      "metadata": {
        "id": "hsnTJiYDAtxk",
        "colab_type": "code",
        "colab": {}
      },
      "cell_type": "code",
      "source": [
        ""
      ],
      "execution_count": 0,
      "outputs": []
    },
    {
      "metadata": {
        "id": "hFq2_ajaAwah",
        "colab_type": "code",
        "outputId": "1cf3de18-7cae-4092-83df-925e12092b88",
        "colab": {
          "base_uri": "https://localhost:8080/",
          "height": 34
        }
      },
      "cell_type": "code",
      "source": [
        "test.week.unique()"
      ],
      "execution_count": 0,
      "outputs": [
        {
          "output_type": "execute_result",
          "data": {
            "text/plain": [
              "array([146, 147, 148, 149, 150, 151, 152, 153, 154, 155])"
            ]
          },
          "metadata": {
            "tags": []
          },
          "execution_count": 136
        }
      ]
    },
    {
      "metadata": {
        "id": "zAQWBL6NA6Gl",
        "colab_type": "code",
        "colab": {}
      },
      "cell_type": "code",
      "source": [
        ""
      ],
      "execution_count": 0,
      "outputs": []
    }
  ]
}